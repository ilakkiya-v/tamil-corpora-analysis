{
  "nbformat": 4,
  "nbformat_minor": 0,
  "metadata": {
    "colab": {
      "name": "Copy of corpora _analysis.ipynb",
      "provenance": [],
      "collapsed_sections": []
    },
    "kernelspec": {
      "name": "python3",
      "display_name": "Python 3"
    },
    "language_info": {
      "name": "python"
    }
  },
  "cells": [
    {
      "cell_type": "code",
      "metadata": {
        "colab": {
          "base_uri": "https://localhost:8080/"
        },
        "id": "cokKhs9zLj5m",
        "outputId": "0a35c01a-3db3-469b-b479-5a863d387f5d"
      },
      "source": [
        "#mounting the drive and redirecting to folder\n",
        "\n",
        "cd '/content/drive/MyDrive/nlp_da1'"
      ],
      "execution_count": null,
      "outputs": [
        {
          "output_type": "stream",
          "name": "stdout",
          "text": [
            "/content/drive/MyDrive/nlp_da1\n"
          ]
        }
      ]
    },
    {
      "cell_type": "markdown",
      "metadata": {
        "id": "zRJ39AnYgyZW"
      },
      "source": [
        "# Dataset gathering from wikimedia dumps\n",
        "\n",
        "---\n",
        "\n",
        "Here we gather dataset from the given link and unzip the folder and extract the files. I am using **'wikiextractor'** library to do the necessary commands."
      ]
    },
    {
      "cell_type": "code",
      "metadata": {
        "colab": {
          "base_uri": "https://localhost:8080/"
        },
        "id": "oEyJQhZ12Pbb",
        "outputId": "11da91e3-ec56-45e9-f1e5-268d9af2b060"
      },
      "source": [
        "\n",
        "!wget http://dumps.wikimedia.org/tawiki/latest/tawiki-latest-pages-articles.xml.bz2"
      ],
      "execution_count": null,
      "outputs": [
        {
          "output_type": "stream",
          "name": "stdout",
          "text": [
            "--2021-09-06 03:39:22--  http://dumps.wikimedia.org/tawiki/latest/tawiki-latest-pages-articles.xml.bz2\n",
            "Resolving dumps.wikimedia.org (dumps.wikimedia.org)... 208.80.154.7, 2620:0:861:1:208:80:154:7\n",
            "Connecting to dumps.wikimedia.org (dumps.wikimedia.org)|208.80.154.7|:80... connected.\n",
            "HTTP request sent, awaiting response... 301 Moved Permanently\n",
            "Location: https://dumps.wikimedia.org/tawiki/latest/tawiki-latest-pages-articles.xml.bz2 [following]\n",
            "--2021-09-06 03:39:23--  https://dumps.wikimedia.org/tawiki/latest/tawiki-latest-pages-articles.xml.bz2\n",
            "Connecting to dumps.wikimedia.org (dumps.wikimedia.org)|208.80.154.7|:443... connected.\n",
            "HTTP request sent, awaiting response... 200 OK\n",
            "Length: 179947151 (172M) [application/octet-stream]\n",
            "Saving to: ‘tawiki-latest-pages-articles.xml.bz2.1’\n",
            "\n",
            "tawiki-latest-pages 100%[===================>] 171.61M  4.68MB/s    in 38s     \n",
            "\n",
            "2021-09-06 03:40:01 (4.57 MB/s) - ‘tawiki-latest-pages-articles.xml.bz2.1’ saved [179947151/179947151]\n",
            "\n"
          ]
        }
      ]
    },
    {
      "cell_type": "code",
      "metadata": {
        "id": "O1p-9_0s22E9"
      },
      "source": [
        "!bunzip2 tawiki-latest-pages-articles.xml.bz2"
      ],
      "execution_count": null,
      "outputs": []
    },
    {
      "cell_type": "code",
      "metadata": {
        "colab": {
          "base_uri": "https://localhost:8080/"
        },
        "id": "eIQYSmNY3GAv",
        "outputId": "ebd3591c-8ee8-4733-9054-b8a10b7b7c0c"
      },
      "source": [
        "!ls -ltr"
      ],
      "execution_count": null,
      "outputs": [
        {
          "output_type": "stream",
          "name": "stdout",
          "text": [
            "total 1717423\n",
            "-rw------- 1 root root 1448750976 Sep  1 17:23 tawiki-latest-pages-articles.xml\n",
            "-rw------- 1 root root    7054336 Sep  5 14:11 tawikibooks.zip\n",
            "-rw------- 1 root root  302735000 Sep  6 03:41 tawiki-latest-pages-articles.xml.bz2.1.out\n",
            "-rw------- 1 root root      99360 Sep  6 03:43 Untitled7.ipynb\n"
          ]
        }
      ]
    },
    {
      "cell_type": "code",
      "metadata": {
        "colab": {
          "base_uri": "https://localhost:8080/"
        },
        "id": "tnr-Xw7K3Qx3",
        "outputId": "ab0c2f7b-5529-48aa-c3a3-ebc35a051a69"
      },
      "source": [
        "!git clone https://github.com/attardi/wikiextractor.git"
      ],
      "execution_count": null,
      "outputs": [
        {
          "output_type": "stream",
          "name": "stdout",
          "text": [
            "Cloning into 'wikiextractor'...\n",
            "remote: Enumerating objects: 742, done.\u001b[K\n",
            "remote: Counting objects: 100% (1/1), done.\u001b[K\n",
            "remote: Total 742 (delta 0), reused 0 (delta 0), pack-reused 741\u001b[K\n",
            "Receiving objects: 100% (742/742), 1.28 MiB | 4.40 MiB/s, done.\n",
            "Resolving deltas: 100% (433/433), done.\n"
          ]
        }
      ]
    },
    {
      "cell_type": "code",
      "metadata": {
        "colab": {
          "base_uri": "https://localhost:8080/"
        },
        "id": "1jb0il3B3ujn",
        "outputId": "05c3a7de-8de3-49c5-fbb9-bb12f6311a30"
      },
      "source": [
        "!ls"
      ],
      "execution_count": null,
      "outputs": [
        {
          "output_type": "stream",
          "name": "stdout",
          "text": [
            "tawikibooks.zip\t\t\t\t    Untitled7.ipynb\n",
            "tawiki-latest-pages-articles.xml\t    wikiextractor\n",
            "tawiki-latest-pages-articles.xml.bz2.1.out\n"
          ]
        }
      ]
    },
    {
      "cell_type": "code",
      "metadata": {
        "id": "Bd3ixDCb4fYl"
      },
      "source": [
        "!python ./wikiextractor/wikiextractor/WikiExtractor.py tawiki-latest-pages-articles.xml --no-templates -q"
      ],
      "execution_count": null,
      "outputs": []
    },
    {
      "cell_type": "markdown",
      "metadata": {
        "id": "ol4BX9E8hegr"
      },
      "source": [
        "## Getting List of article collection files\n",
        "\n",
        "---\n",
        "\n"
      ]
    },
    {
      "cell_type": "markdown",
      "metadata": {
        "id": "Pk6sWymvh_HU"
      },
      "source": [
        ""
      ]
    },
    {
      "cell_type": "markdown",
      "metadata": {
        "id": "XZIQR9mmh_FE"
      },
      "source": [
        ""
      ]
    },
    {
      "cell_type": "code",
      "metadata": {
        "id": "NSibgKDv33lk"
      },
      "source": [
        "import glob\n",
        "flist=glob.glob('text/*/*')"
      ],
      "execution_count": null,
      "outputs": []
    },
    {
      "cell_type": "code",
      "metadata": {
        "colab": {
          "base_uri": "https://localhost:8080/"
        },
        "id": "rg3ek8mE4Dqb",
        "outputId": "54d855b1-471c-431b-cf28-da6ff80125b4"
      },
      "source": [
        "len(flist)"
      ],
      "execution_count": null,
      "outputs": [
        {
          "output_type": "execute_result",
          "data": {
            "text/plain": [
              "559"
            ]
          },
          "metadata": {},
          "execution_count": 17
        }
      ]
    },
    {
      "cell_type": "code",
      "metadata": {
        "colab": {
          "base_uri": "https://localhost:8080/"
        },
        "id": "LPiQOaoZ4GTZ",
        "outputId": "3a1ae299-4694-4906-a03f-55b240e1dec4"
      },
      "source": [
        "flist[:2]"
      ],
      "execution_count": null,
      "outputs": [
        {
          "output_type": "execute_result",
          "data": {
            "text/plain": [
              "['text/AA/wiki_00', 'text/AA/wiki_01']"
            ]
          },
          "metadata": {},
          "execution_count": 18
        }
      ]
    },
    {
      "cell_type": "code",
      "metadata": {
        "colab": {
          "base_uri": "https://localhost:8080/",
          "height": 35
        },
        "id": "SK8T-7sc4Hma",
        "outputId": "90880663-ddf2-4117-dfff-09df152898d1"
      },
      "source": [
        "def future_name(fn):\n",
        "  a,b,c=fn.split('/')\n",
        "  return '/'.join([a,b,b+'_'+c+'.txt'])\n",
        "future_name(flist[0])"
      ],
      "execution_count": null,
      "outputs": [
        {
          "output_type": "execute_result",
          "data": {
            "application/vnd.google.colaboratory.intrinsic+json": {
              "type": "string"
            },
            "text/plain": [
              "'text/AA/AA_wiki_00.txt'"
            ]
          },
          "metadata": {},
          "execution_count": 19
        }
      ]
    },
    {
      "cell_type": "code",
      "metadata": {
        "id": "D9lShxPaNRvf"
      },
      "source": [
        "import os\n",
        "for f in flist:\n",
        "  os.rename(f,future_name(f))"
      ],
      "execution_count": null,
      "outputs": []
    },
    {
      "cell_type": "code",
      "metadata": {
        "colab": {
          "base_uri": "https://localhost:8080/"
        },
        "id": "g7uG8aGQNUUJ",
        "outputId": "eff56a8f-18e3-4fad-c0dc-c3e2d1df14e8"
      },
      "source": [
        "flist2=glob.glob('text/*/*')\n",
        "len(flist2),flist2[:2]"
      ],
      "execution_count": null,
      "outputs": [
        {
          "output_type": "execute_result",
          "data": {
            "text/plain": [
              "(559, ['text/AA/AA_wiki_00.txt', 'text/AA/AA_wiki_01.txt'])"
            ]
          },
          "metadata": {},
          "execution_count": 21
        }
      ]
    },
    {
      "cell_type": "code",
      "metadata": {
        "colab": {
          "base_uri": "https://localhost:8080/"
        },
        "id": "_vSiobaQNWU8",
        "outputId": "3b6971b0-5c57-433d-914c-eee7062ec9c1"
      },
      "source": [
        "with open(flist2[0], encoding='utf-8') as f:\n",
        "    text=f.read()\n",
        "print(text[:1000])"
      ],
      "execution_count": null,
      "outputs": [
        {
          "output_type": "stream",
          "name": "stdout",
          "text": [
            "<doc id=\"3\" url=\"https://ta.wikipedia.org/wiki?curid=3\" title=\"முதற் பக்கம்\">\n",
            "முதற் பக்கம்\n",
            "\n",
            "&lt;templatestyles src=\"Main Page/minerva.css\" /&gt;\n",
            "\n",
            "</doc>\n",
            "<doc id=\"12\" url=\"https://ta.wikipedia.org/wiki?curid=12\" title=\"கட்டிடக்கலை\">\n",
            "கட்டிடக்கலை\n",
            "\n",
            "கட்டிடக்கலை என்பது கட்டிடங்கள் மற்றும் அதன் உடல் கட்டமைப்புகளை வடிவமைத்தல், செயல்முறைத் திட்டமிடல், மற்றும் கட்டிடங்கள் கட்டுவதை உள்ளடக்கியதாகும். கட்டடக்கலை படைப்புகள், கட்டிடங்கள் பொருள் வடிவம், பெரும்பாலும் கலாச்சார சின்னங்களாக மற்றும் கலை படைப்புகளாக காணப்படுகின்றது. வரலாற்று நாகரிகங்கள் பெரும்பாலும் அவர்களின் கட்டிடகலை சாதனைகளின் மூலம் அடையாளம் காணப்படுகின்றன.\n",
            "ஒரு விரிவான வரைவிலக்கணம், பெருமட்டத்தில், நகரத் திட்டமிடல், நகர்ப்புற வடிவமைப்பு மற்றும் நிலத்தோற்றம் முதலியவற்றையும், நுண்மட்டத்தில், தளபாடங்கள், உற்பத்திப்பொருள் முதலியவற்றை உள்ளடக்கிய, முழு உருவாக்கச் சூழலின் வடிவமைப்பைக் கட்டிடக்கலைக்குள் அடக்கும். \n",
            "மேற்படி விடயத்தில், தற்போது கிடைக்கும் மிகப் பழைய ஆக்கம், கி.பி. முதலாம் நூற்றாண்டைச் சேர்ந்த உரோமானியக் கட்டடக் கலைஞரான விட்ருவியஸ் \n"
          ]
        }
      ]
    },
    {
      "cell_type": "markdown",
      "metadata": {
        "id": "ZJPB7EXqiGIf"
      },
      "source": [
        "## Extract titles of articles"
      ]
    },
    {
      "cell_type": "code",
      "metadata": {
        "colab": {
          "base_uri": "https://localhost:8080/"
        },
        "id": "k_SH4cmgNbnV",
        "outputId": "ebefde20-623e-4fab-c49c-f97f678e5d01"
      },
      "source": [
        "import re\n",
        "\n",
        "example_title ='<doc id=\"12\" url=\"https://ta.wikipedia.org/wiki?curid=12\" title=\"கட்டிடக்கலை\">'\n",
        "pattern = 'title=\"(.*?)\">'\n",
        "with open(flist2[0], encoding='utf-8') as f:\n",
        "    text=f.read()\n",
        "    titles=re.findall(pattern, text)\n",
        "    print(len(titles), 'articles found')"
      ],
      "execution_count": null,
      "outputs": [
        {
          "output_type": "stream",
          "name": "stdout",
          "text": [
            "84 articles found\n"
          ]
        }
      ]
    },
    {
      "cell_type": "markdown",
      "metadata": {
        "id": "-q96AgOUiMVF"
      },
      "source": [
        "#Total number of all articles"
      ]
    },
    {
      "cell_type": "code",
      "metadata": {
        "colab": {
          "base_uri": "https://localhost:8080/"
        },
        "id": "uaeXXkjuNfMT",
        "outputId": "36e1e067-778d-47e5-efda-18b3044c01be"
      },
      "source": [
        "pattern = 'title=\"(.*?)\">'\n",
        "def get_article_count(fname):\n",
        "    with open(fname, encoding='utf-8') as f:\n",
        "        text=f.read()\n",
        "        titles=re.findall(pattern, text)\n",
        "        return len(titles)\n",
        "print(sum([get_article_count(f) for f in flist2]))"
      ],
      "execution_count": null,
      "outputs": [
        {
          "output_type": "stream",
          "name": "stdout",
          "text": [
            "185250\n"
          ]
        }
      ]
    },
    {
      "cell_type": "markdown",
      "metadata": {
        "id": "Erfxvs3iiWqN"
      },
      "source": [
        "#Create tiny subset for analyses"
      ]
    },
    {
      "cell_type": "code",
      "metadata": {
        "id": "aCAakKTnNgxQ"
      },
      "source": [
        "!mv text tawiki_large"
      ],
      "execution_count": null,
      "outputs": []
    },
    {
      "cell_type": "code",
      "metadata": {
        "colab": {
          "base_uri": "https://localhost:8080/"
        },
        "id": "ZPVNdJmTNjd6",
        "outputId": "be8eb4ff-793f-4fb4-a800-eea5a4434d8a"
      },
      "source": [
        "flist3 = glob.glob('tawiki_large/*/*')\n",
        "flist3[0], len(flist3)"
      ],
      "execution_count": null,
      "outputs": [
        {
          "output_type": "execute_result",
          "data": {
            "text/plain": [
              "('tawiki_large/AA/AA_wiki_00.txt', 559)"
            ]
          },
          "metadata": {},
          "execution_count": 26
        }
      ]
    },
    {
      "cell_type": "code",
      "metadata": {
        "colab": {
          "base_uri": "https://localhost:8080/"
        },
        "id": "JRA9adKnNmH1",
        "outputId": "98b8d878-d501-4b39-dd22-db2de594e1be"
      },
      "source": [
        "import random\n",
        "random.shuffle(flist3)\n",
        "flist3[:2]"
      ],
      "execution_count": null,
      "outputs": [
        {
          "output_type": "execute_result",
          "data": {
            "text/plain": [
              "['tawiki_large/AE/AE_wiki_94.txt', 'tawiki_large/AB/AB_wiki_05.txt']"
            ]
          },
          "metadata": {},
          "execution_count": 27
        }
      ]
    },
    {
      "cell_type": "code",
      "metadata": {
        "id": "rp8uMherNm6x"
      },
      "source": [
        "flist_small = flist3[:40]"
      ],
      "execution_count": null,
      "outputs": []
    },
    {
      "cell_type": "code",
      "metadata": {
        "id": "qXCciLrKNpat"
      },
      "source": [
        "!mkdir tawiki_small"
      ],
      "execution_count": null,
      "outputs": []
    },
    {
      "cell_type": "code",
      "metadata": {
        "id": "x4vADaGsNrHM"
      },
      "source": [
        "for file in flist_small:\n",
        "    with open(file, encoding='utf-8') as f:\n",
        "        text = f.read()\n",
        "        name=file.split('/')\n",
        "        newname=name[0].replace('large', 'small')+'/'+name[2]\n",
        "    with open(newname, \"w\") as text_file:\n",
        "        text_file.write(text)"
      ],
      "execution_count": null,
      "outputs": []
    },
    {
      "cell_type": "code",
      "metadata": {
        "colab": {
          "base_uri": "https://localhost:8080/"
        },
        "id": "6o3Zhqa5NtlH",
        "outputId": "75f4f79e-03fb-462a-f86a-f5c045ca2b87"
      },
      "source": [
        "\n",
        "pattern = 'title=\"(.*?)\">'\n",
        "def get_article_count(fname):\n",
        "    with open(fname, encoding='utf-8') as f:\n",
        "        text=f.read()\n",
        "        titles=re.findall(pattern, text)\n",
        "        return len(titles)\n",
        "    \n",
        "flist_small = glob.glob('tawiki_small/*')\n",
        "print(sum([get_article_count(f) for f in flist_small]))"
      ],
      "execution_count": null,
      "outputs": [
        {
          "output_type": "stream",
          "name": "stdout",
          "text": [
            "13597\n"
          ]
        }
      ]
    },
    {
      "cell_type": "markdown",
      "metadata": {
        "id": "-F8JTwEaifn-"
      },
      "source": [
        "## Dataset Preprocessing and Tokenization of tamil words for selected text file\n",
        "\n",
        "---\n",
        "\n"
      ]
    },
    {
      "cell_type": "code",
      "metadata": {
        "colab": {
          "base_uri": "https://localhost:8080/",
          "height": 137
        },
        "id": "--tRPT_gQ3ic",
        "outputId": "60fc2197-4c97-416c-8ba8-e10ead57631a"
      },
      "source": [
        "import nltk, re, string, collections\n",
        "from nltk.util import ngrams # function for making ngrams\n",
        "\n",
        "# this corpus is pretty big, so let's look at just one of the files in it\n",
        "with open(\"/content/drive/MyDrive/nlp_da1/tawiki_large/AA/AA_wiki_00.txt\", \"r\") as file:\n",
        "    text = file.read()\n",
        "\n",
        "# check to make sure the file read in alright; let's print out the first 1000 characters\n",
        "text[0:1000]"
      ],
      "execution_count": null,
      "outputs": [
        {
          "output_type": "execute_result",
          "data": {
            "application/vnd.google.colaboratory.intrinsic+json": {
              "type": "string"
            },
            "text/plain": [
              "'<doc id=\"3\" url=\"https://ta.wikipedia.org/wiki?curid=3\" title=\"முதற் பக்கம்\">\\nமுதற் பக்கம்\\n\\n&lt;templatestyles src=\"Main Page/minerva.css\" /&gt;\\n\\n</doc>\\n<doc id=\"12\" url=\"https://ta.wikipedia.org/wiki?curid=12\" title=\"கட்டிடக்கலை\">\\nகட்டிடக்கலை\\n\\nகட்டிடக்கலை என்பது கட்டிடங்கள் மற்றும் அதன் உடல் கட்டமைப்புகளை வடிவமைத்தல், செயல்முறைத் திட்டமிடல், மற்றும் கட்டிடங்கள் கட்டுவதை உள்ளடக்கியதாகும். கட்டடக்கலை படைப்புகள், கட்டிடங்கள் பொருள் வடிவம், பெரும்பாலும் கலாச்சார சின்னங்களாக மற்றும் கலை படைப்புகளாக காணப்படுகின்றது. வரலாற்று நாகரிகங்கள் பெரும்பாலும் அவர்களின் கட்டிடகலை சாதனைகளின் மூலம் அடையாளம் காணப்படுகின்றன.\\nஒரு விரிவான வரைவிலக்கணம், பெருமட்டத்தில், நகரத் திட்டமிடல், நகர்ப்புற வடிவமைப்பு மற்றும் நிலத்தோற்றம் முதலியவற்றையும், நுண்மட்டத்தில், தளபாடங்கள், உற்பத்திப்பொருள் முதலியவற்றை உள்ளடக்கிய, முழு உருவாக்கச் சூழலின் வடிவமைப்பைக் கட்டிடக்கலைக்குள் அடக்கும். \\nமேற்படி விடயத்தில், தற்போது கிடைக்கும் மிகப் பழைய ஆக்கம், கி.பி. முதலாம் நூற்றாண்டைச் சேர்ந்த உரோமானியக் கட்டடக் கலைஞரான விட்ருவியஸ் '"
            ]
          },
          "metadata": {},
          "execution_count": 3
        }
      ]
    },
    {
      "cell_type": "code",
      "metadata": {
        "colab": {
          "base_uri": "https://localhost:8080/",
          "height": 137
        },
        "id": "bX_7X-gGTEli",
        "outputId": "62014051-ae0d-4065-86b7-07c2e5015314"
      },
      "source": [
        "\n",
        "# get rid of all the XML markup\n",
        "text = re.sub('<.*>','',text)\n",
        "\n",
        "# get rid of the \"ENDOFARTICLE.\" text\n",
        "text = re.sub('ENDOFARTICLE.','',text)\n",
        "\n",
        "text = re.sub('[a-zA-Z]','',text)\n",
        "\n",
        "# get rid of punctuation\n",
        "punctuationNoPeriod = \"[\" + re.sub(\"\\.\",\"\",string.punctuation) + \"]\"\n",
        "text = re.sub(punctuationNoPeriod, \"\", text)\n",
        "\n",
        "# make sure it looks ok\n",
        "text[0:1000]"
      ],
      "execution_count": null,
      "outputs": [
        {
          "output_type": "execute_result",
          "data": {
            "application/vnd.google.colaboratory.intrinsic+json": {
              "type": "string"
            },
            "text/plain": [
              "'\\nமுதற் பக்கம்\\n\\n   \\n\\n\\n\\nகட்டிடக்கலை\\n\\nகட்டிடக்கலை என்பது கட்டிடங்கள் மற்றும் அதன் உடல் கட்டமைப்புகளை வடிவமைத்தல் செயல்முறைத் திட்டமிடல் மற்றும் கட்டிடங்கள் கட்டுவதை உள்ளடக்கியதாகும் கட்டடக்கலை படைப்புகள் கட்டிடங்கள் பொருள் வடிவம் பெரும்பாலும் கலாச்சார சின்னங்களாக மற்றும் கலை படைப்புகளாக காணப்படுகின்றது வரலாற்று நாகரிகங்கள் பெரும்பாலும் அவர்களின் கட்டிடகலை சாதனைகளின் மூலம் அடையாளம் காணப்படுகின்றன\\nஒரு விரிவான வரைவிலக்கணம் பெருமட்டத்தில் நகரத் திட்டமிடல் நகர்ப்புற வடிவமைப்பு மற்றும் நிலத்தோற்றம் முதலியவற்றையும் நுண்மட்டத்தில் தளபாடங்கள் உற்பத்திப்பொருள் முதலியவற்றை உள்ளடக்கிய முழு உருவாக்கச் சூழலின் வடிவமைப்பைக் கட்டிடக்கலைக்குள் அடக்கும் \\nமேற்படி விடயத்தில் தற்போது கிடைக்கும் மிகப் பழைய ஆக்கம் கிபி முதலாம் நூற்றாண்டைச் சேர்ந்த உரோமானியக் கட்டடக் கலைஞரான விட்ருவியஸ் என்பாரது கட்டிடக்கலை தொடர்பில் என்ற நூலாகும் இவரது கூற்றுப்படி நல்ல கட்டிடம் அழகு உறுதி பயன்பாடு ஆகியவற்றைக் கொண்டிருக்கவேண்டும் மேற்படி மூன்றும் ஒன்றின்மீதொன்று அளவுமீறி ஆதிக்கம் செலுத்தாமல் தங்களிடையே சமனிலையையும் ஒருங்கினைப்பை'"
            ]
          },
          "metadata": {},
          "execution_count": 4
        }
      ]
    },
    {
      "cell_type": "markdown",
      "metadata": {
        "id": "dOtgtgXpiqN-"
      },
      "source": [
        "## N-gram analyses (2,3,4)"
      ]
    },
    {
      "cell_type": "code",
      "metadata": {
        "id": "Z_1ktb67TokS"
      },
      "source": [
        "# first get individual words\n",
        "tokenized = text.split()\n",
        "\n",
        "# and get a list of all the bi-grams\n",
        "esBigrams = ngrams(tokenized, 2)\n",
        "\n",
        "# and get a list of all the tri-grams\n",
        "esBigrams2 = ngrams(tokenized, 3)\n",
        "\n",
        "# and get a list of all the quad-grams\n",
        "esBigrams3 = ngrams(tokenized, 4)\n",
        "\n",
        "# If you like, you can uncomment the next like to take a look at \n",
        "# the first ten to make sure they look ok. Please note that doing so \n",
        "# will consume the generator & will break the next block of code, so you'll\n",
        "# need to re-comment it and run this block again to get it to work.\n",
        "#list(esBigrams)[:10]"
      ],
      "execution_count": null,
      "outputs": []
    },
    {
      "cell_type": "code",
      "metadata": {
        "colab": {
          "base_uri": "https://localhost:8080/"
        },
        "id": "OCtcCv-gTraz",
        "outputId": "b434d183-205e-41de-c0a6-6ea96f79113a"
      },
      "source": [
        "# get the frequency of each bigram in our corpus\n",
        "esBigramFreq = collections.Counter(esBigrams)\n",
        "\n",
        "# what are the ten most popular ngrams in this Spanish corpus?\n",
        "esBigramFreq.most_common(20)"
      ],
      "execution_count": null,
      "outputs": [
        {
          "output_type": "execute_result",
          "data": {
            "text/plain": [
              "[(('ஆம்', 'ஆண்டில்'), 29),\n",
              " (('ஐக்கிய', 'நாடுகள்'), 27),\n",
              " (('ஆம்', 'ஆண்டு'), 25),\n",
              " (('ஐக்கிய', 'அரபு'), 20),\n",
              " (('ஆம்', 'நூற்றாண்டில்'), 18),\n",
              " (('இந்திய', 'துணைக்'), 18),\n",
              " (('என்பது', 'ஒரு'), 13),\n",
              " (('சிவாஜி', 'கணேசன்'), 13),\n",
              " (('ஆம்', 'நூற்றாண்டின்'), 12),\n",
              " (('துணைக்', 'கண்டம்'), 12),\n",
              " (('என்ற', 'சொல்'), 12),\n",
              " (('19', 'ஆம்'), 11),\n",
              " (('மக்கள்', 'தொகை'), 11),\n",
              " (('வாஸ்து', 'சாஸ்திரம்'), 10),\n",
              " (('ஒரு', 'குறிப்பிட்ட'), 10),\n",
              " (('சில', 'சமயங்களில்'), 10),\n",
              " (('எம்பயர்', 'ஸ்டேட்'), 10),\n",
              " (('கொண்ட', 'ஒரு'), 9),\n",
              " (('என்ற', 'பெயர்'), 9),\n",
              " (('மிகப்', 'பழைய'), 8)]"
            ]
          },
          "metadata": {},
          "execution_count": 6
        }
      ]
    },
    {
      "cell_type": "code",
      "metadata": {
        "colab": {
          "base_uri": "https://localhost:8080/"
        },
        "id": "vsu3o0zDUlcn",
        "outputId": "c80cb267-b6cc-4181-aa78-81535f45fce7"
      },
      "source": [
        "tokenized"
      ],
      "execution_count": null,
      "outputs": [
        {
          "output_type": "execute_result",
          "data": {
            "text/plain": [
              "['முதற்',\n",
              " 'பக்கம்',\n",
              " 'கட்டிடக்கலை',\n",
              " 'கட்டிடக்கலை',\n",
              " 'என்பது',\n",
              " 'கட்டிடங்கள்',\n",
              " 'மற்றும்',\n",
              " 'அதன்',\n",
              " 'உடல்',\n",
              " 'கட்டமைப்புகளை',\n",
              " 'வடிவமைத்தல்',\n",
              " 'செயல்முறைத்',\n",
              " 'திட்டமிடல்',\n",
              " 'மற்றும்',\n",
              " 'கட்டிடங்கள்',\n",
              " 'கட்டுவதை',\n",
              " 'உள்ளடக்கியதாகும்',\n",
              " 'கட்டடக்கலை',\n",
              " 'படைப்புகள்',\n",
              " 'கட்டிடங்கள்',\n",
              " 'பொருள்',\n",
              " 'வடிவம்',\n",
              " 'பெரும்பாலும்',\n",
              " 'கலாச்சார',\n",
              " 'சின்னங்களாக',\n",
              " 'மற்றும்',\n",
              " 'கலை',\n",
              " 'படைப்புகளாக',\n",
              " 'காணப்படுகின்றது',\n",
              " 'வரலாற்று',\n",
              " 'நாகரிகங்கள்',\n",
              " 'பெரும்பாலும்',\n",
              " 'அவர்களின்',\n",
              " 'கட்டிடகலை',\n",
              " 'சாதனைகளின்',\n",
              " 'மூலம்',\n",
              " 'அடையாளம்',\n",
              " 'காணப்படுகின்றன',\n",
              " 'ஒரு',\n",
              " 'விரிவான',\n",
              " 'வரைவிலக்கணம்',\n",
              " 'பெருமட்டத்தில்',\n",
              " 'நகரத்',\n",
              " 'திட்டமிடல்',\n",
              " 'நகர்ப்புற',\n",
              " 'வடிவமைப்பு',\n",
              " 'மற்றும்',\n",
              " 'நிலத்தோற்றம்',\n",
              " 'முதலியவற்றையும்',\n",
              " 'நுண்மட்டத்தில்',\n",
              " 'தளபாடங்கள்',\n",
              " 'உற்பத்திப்பொருள்',\n",
              " 'முதலியவற்றை',\n",
              " 'உள்ளடக்கிய',\n",
              " 'முழு',\n",
              " 'உருவாக்கச்',\n",
              " 'சூழலின்',\n",
              " 'வடிவமைப்பைக்',\n",
              " 'கட்டிடக்கலைக்குள்',\n",
              " 'அடக்கும்',\n",
              " 'மேற்படி',\n",
              " 'விடயத்தில்',\n",
              " 'தற்போது',\n",
              " 'கிடைக்கும்',\n",
              " 'மிகப்',\n",
              " 'பழைய',\n",
              " 'ஆக்கம்',\n",
              " 'கிபி',\n",
              " 'முதலாம்',\n",
              " 'நூற்றாண்டைச்',\n",
              " 'சேர்ந்த',\n",
              " 'உரோமானியக்',\n",
              " 'கட்டடக்',\n",
              " 'கலைஞரான',\n",
              " 'விட்ருவியஸ்',\n",
              " 'என்பாரது',\n",
              " 'கட்டிடக்கலை',\n",
              " 'தொடர்பில்',\n",
              " 'என்ற',\n",
              " 'நூலாகும்',\n",
              " 'இவரது',\n",
              " 'கூற்றுப்படி',\n",
              " 'நல்ல',\n",
              " 'கட்டிடம்',\n",
              " 'அழகு',\n",
              " 'உறுதி',\n",
              " 'பயன்பாடு',\n",
              " 'ஆகியவற்றைக்',\n",
              " 'கொண்டிருக்கவேண்டும்',\n",
              " 'மேற்படி',\n",
              " 'மூன்றும்',\n",
              " 'ஒன்றின்மீதொன்று',\n",
              " 'அளவுமீறி',\n",
              " 'ஆதிக்கம்',\n",
              " 'செலுத்தாமல்',\n",
              " 'தங்களிடையே',\n",
              " 'சமனிலையையும்',\n",
              " 'ஒருங்கினைப்பையும்',\n",
              " 'கொண்டிருத்தலே',\n",
              " 'கட்டிடக்கலை',\n",
              " 'என்று',\n",
              " 'சொல்லலாம்',\n",
              " 'ஒரு',\n",
              " 'மேலான',\n",
              " 'வரைவிலக்கணம்',\n",
              " 'கட்டிடக்கலையைச்',\n",
              " 'செயற்பாட்டு',\n",
              " 'அழகியல்',\n",
              " 'உளவியல்',\n",
              " 'என்பன',\n",
              " 'தொடர்பான',\n",
              " 'விடயங்களைக்',\n",
              " 'கையாளல்',\n",
              " 'என்ற',\n",
              " 'விதத்தில்',\n",
              " 'நோக்குகிறது',\n",
              " 'எனினும்',\n",
              " 'இன்னொரு',\n",
              " 'விதத்தில்',\n",
              " 'பார்த்தால்',\n",
              " 'செயற்பாடு',\n",
              " 'என்பது',\n",
              " 'அழகியல்',\n",
              " 'உளவியல்',\n",
              " 'உட்பட்ட',\n",
              " 'எல்லா',\n",
              " 'அளபுருக்களையும்',\n",
              " 'தன்னுள்',\n",
              " 'அடக்குவதாகக்',\n",
              " 'கொள்ளலாம்',\n",
              " 'கட்டிடக்கலை',\n",
              " 'கணிதம்',\n",
              " 'அறிவியல்',\n",
              " 'கலை',\n",
              " 'தொழில்நுட்பம்',\n",
              " 'சமூக',\n",
              " 'அறிவியல்',\n",
              " 'அரசியல்',\n",
              " 'வரலாறு',\n",
              " 'தத்துவம்',\n",
              " 'பொன்றவற்றுடன்',\n",
              " 'தொடர்புள்ள',\n",
              " 'ஒரு',\n",
              " 'பல்துறைக்',\n",
              " 'களமாகும்',\n",
              " 'விட்ருவியசின்',\n",
              " 'சொற்களில்',\n",
              " 'கட்டிடக்கலையென்பது',\n",
              " 'வேறுபல',\n",
              " 'அறிவியல்',\n",
              " 'துறைகளிலிருந்து',\n",
              " 'எழுவதும்',\n",
              " 'பெருமளவு',\n",
              " 'பல்வேறுபட்ட',\n",
              " 'அறிவுத்துறைகளினால்',\n",
              " 'அலங்கரிக்கப்பட்டதுமான',\n",
              " 'ஒரு',\n",
              " 'அறிவியலாகும்',\n",
              " 'இதன்',\n",
              " 'உதவியைக்',\n",
              " 'கொண்டே',\n",
              " 'பல்வேறு',\n",
              " 'கலைத்',\n",
              " 'துறைகளினதும்',\n",
              " 'விளைவுகள்',\n",
              " 'மதிப்பீடு',\n",
              " 'செய்யப்படுகின்றன',\n",
              " 'மேலும்',\n",
              " 'ஒரு',\n",
              " 'கட்டிடக்',\n",
              " 'கலைஞன்',\n",
              " 'இசை',\n",
              " 'வானியல்',\n",
              " 'முதலிய',\n",
              " 'துறைகளிலும்',\n",
              " 'நல்ல',\n",
              " 'பரிச்சயமுடையவனாயிருக்க',\n",
              " 'வேண்டும்',\n",
              " 'என்பது',\n",
              " 'விட்ருவியசின்',\n",
              " 'கருத்து',\n",
              " 'தத்துவம்',\n",
              " 'குறிப்பாக',\n",
              " 'விருப்பத்துக்குரியது',\n",
              " 'உண்மையில்',\n",
              " 'அணுகுமுறை',\n",
              " 'பற்றிக்',\n",
              " 'கருதும்போது',\n",
              " 'ஒவ்வொரு',\n",
              " 'கட்டிடக்',\n",
              " 'கலைஞனதும்',\n",
              " 'தத்துவம்',\n",
              " 'பற்றிக்',\n",
              " 'குறிப்பிடுகிறோம்',\n",
              " 'பகுத்தறிவியம்',\n",
              " 'பட்டறிவியம்',\n",
              " 'கட்டமைப்பியம்',\n",
              " 'பின்கட்டமைப்பியம்',\n",
              " 'மற்றும்',\n",
              " 'தோற்றப்பாட்டியல்',\n",
              " 'என்பன',\n",
              " 'போன்ற',\n",
              " 'போக்குகள்',\n",
              " 'கட்டிடக்கலையில்',\n",
              " 'தத்துவத்தின்',\n",
              " 'செல்வாக்கைக்',\n",
              " 'காட்டும்',\n",
              " 'சில',\n",
              " 'எடுதுதுக்காட்டுகளாகும்',\n",
              " 'கட்டிடக்கலைக்',\n",
              " 'கோட்பாடுகள்',\n",
              " 'லியொன்',\n",
              " 'பட்டிஸ்டா',\n",
              " 'ஆல்பர்ட்டி',\n",
              " 'என்பவர்',\n",
              " 'தான்',\n",
              " 'எழுதிய',\n",
              " 'நூலொன்றில்',\n",
              " 'விட்ருவியசின்',\n",
              " 'கருத்துக்களை',\n",
              " 'விரிவாக்கினார்',\n",
              " 'அலங்காரங்களும்',\n",
              " 'அழகுக்குப்',\n",
              " 'பங்களிப்புச்',\n",
              " 'செய்த',\n",
              " 'போதிலும்',\n",
              " 'அழகு',\n",
              " 'என்பது',\n",
              " 'அளவுவிகிதம்',\n",
              " 'தொடர்பிலானது',\n",
              " 'என்று',\n",
              " 'இவர்',\n",
              " 'எழுதினார்',\n",
              " 'ஆல்பர்ட்டியின்',\n",
              " 'கருத்துப்படி',\n",
              " 'ஒரு',\n",
              " 'முறையான',\n",
              " 'உடலமைப்புக்',\n",
              " 'கொண்ட',\n",
              " 'மனிதனின்',\n",
              " 'உடலின்',\n",
              " 'அளவுவிகிதங்களைக்',\n",
              " 'கட்டுப்படுத்தும்',\n",
              " 'விதிகளே',\n",
              " 'சிறப்பான',\n",
              " 'அளவுவிகிதங்களுக்கான',\n",
              " 'விதிகளாகும்',\n",
              " 'அழகைப்',\n",
              " 'பொருளின்',\n",
              " 'தன்மைக்குப்',\n",
              " 'புறம்பாக',\n",
              " 'வெளியிலிருந்து',\n",
              " 'கொண்டுவந்து',\n",
              " 'ஒட்டவைக்க',\n",
              " 'முடியாது',\n",
              " 'பொருள்களோடு',\n",
              " 'அவற்றின்',\n",
              " 'அழகு',\n",
              " 'இயல்பாக',\n",
              " 'அமைந்திருக்கிறது',\n",
              " 'என்னும்',\n",
              " 'கருத்தே',\n",
              " 'இங்கு',\n",
              " 'முக்கியமான',\n",
              " 'அம்சம்',\n",
              " 'கட்டிடக்கலையிலும்',\n",
              " 'பிற',\n",
              " 'அழகியல்',\n",
              " 'கலைகளிலும்',\n",
              " 'பாணி',\n",
              " 'என்னும்',\n",
              " 'ஒரு',\n",
              " 'அம்சம்',\n",
              " 'இடைக்காலத்தில்',\n",
              " 'முக்கிய',\n",
              " 'பங்கு',\n",
              " 'வகித்தது',\n",
              " 'ஆனால்',\n",
              " 'பாணி',\n",
              " 'என்னும்',\n",
              " 'கருத்துரு',\n",
              " '16',\n",
              " 'ஆம்',\n",
              " 'நூற்றாண்டில்',\n",
              " 'வாசரி',\n",
              " 'என்பவர்',\n",
              " 'எழுதிய',\n",
              " 'நூல்களினூடாகவே',\n",
              " 'அறிமுகமானது',\n",
              " 'இந்',\n",
              " 'நூல்கள்',\n",
              " '18',\n",
              " 'ஆம்',\n",
              " 'நூற்றாண்டில்',\n",
              " 'இத்தாலிய',\n",
              " 'மொழி',\n",
              " 'பிரெஞ்சு',\n",
              " 'மொழி',\n",
              " 'ஸ்பானிய',\n",
              " 'மொழி',\n",
              " 'ஆங்கிலம்',\n",
              " 'ஆகியவற்றில்',\n",
              " 'மொழிபெயர்ப்புச்',\n",
              " 'செய்யப்பட்டது',\n",
              " '19',\n",
              " 'ஆம்',\n",
              " 'நூற்றாண்டில்',\n",
              " 'ஆங்கிலக்',\n",
              " 'கலைத்',\n",
              " 'திறனாய்வாளரான',\n",
              " 'ஜான்',\n",
              " 'ரஸ்கின்',\n",
              " 'என்பவர்',\n",
              " '1849',\n",
              " 'வெளியிட்ட',\n",
              " 'கட்டிடக்கலையின்',\n",
              " 'ஏழு',\n",
              " 'விளக்குகள்',\n",
              " 'என்னும்',\n",
              " 'நூலில்',\n",
              " 'கட்டிடக்கலை',\n",
              " 'என்பது',\n",
              " 'அதனைக்',\n",
              " 'காண்போருக்கு',\n",
              " 'உள',\n",
              " 'நலத்தையும்',\n",
              " 'ஆற்றலையும்',\n",
              " 'இன்பத்தையும்',\n",
              " 'தரக்கூடிய',\n",
              " 'வகையில்',\n",
              " 'அமைத்து',\n",
              " 'அலங்கரித்து',\n",
              " 'உருவாக்கப்பட்ட',\n",
              " 'கட்டிடங்களாகும்',\n",
              " 'என்றார்',\n",
              " 'ரஸ்கினுக்கு',\n",
              " 'கட்டிடக்கலையைப்',\n",
              " 'பொறுத்தவரை',\n",
              " 'அழகியலே',\n",
              " 'யாவற்றிலும்',\n",
              " 'முக்கியமான',\n",
              " 'அம்சமாக',\n",
              " 'இருந்தது',\n",
              " 'மேலும்',\n",
              " 'ஏதோ',\n",
              " 'ஒரு',\n",
              " 'வகையில்',\n",
              " 'அலங்கரிக்கப்படாத',\n",
              " 'கட்டிடங்கள்',\n",
              " 'கட்டிடக்கலை',\n",
              " 'ஆகாமாட்டா',\n",
              " 'என்ற',\n",
              " 'கருத்தையும்',\n",
              " 'அவர்',\n",
              " 'கொண்டிருந்தார்',\n",
              " 'கட்டிடங்களும்',\n",
              " 'கட்டிடக்கலையும்',\n",
              " 'ஒரு',\n",
              " 'கட்டிடக்கலை',\n",
              " 'சார்ந்த',\n",
              " 'கட்டிடத்துக்கும்',\n",
              " 'சாதாரண',\n",
              " 'கட்டிடத்துக்கும்',\n",
              " 'உள்ள',\n",
              " 'வேறுபாடு',\n",
              " 'பலரதும்',\n",
              " 'கவனத்தை',\n",
              " 'ஈர்க்கின்ற',\n",
              " 'விடயமாக',\n",
              " 'இருந்துவருகின்றது',\n",
              " 'இது',\n",
              " 'குறித்து',\n",
              " 'எழுதிய',\n",
              " 'பிரபலமான',\n",
              " 'பிரெஞ்சுக்',\n",
              " 'கட்டிடக்கலைஞரான',\n",
              " 'லெ',\n",
              " 'கொபூசியே',\n",
              " 'நீங்கள்',\n",
              " 'கற்கள்',\n",
              " 'மரம்',\n",
              " 'காங்கிறீட்டு',\n",
              " 'என்பவற்றைக்',\n",
              " 'கொண்டு',\n",
              " 'ஒரு',\n",
              " 'வீட்டையோ',\n",
              " 'மாளிகையையோ',\n",
              " 'அமைக்கலாம்',\n",
              " 'அது',\n",
              " 'கட்டுமானம்',\n",
              " 'ஆனால்',\n",
              " 'ஆக்கத்திறன்',\n",
              " 'சிறப்பாக',\n",
              " 'அமையும்போது',\n",
              " 'அது',\n",
              " 'எனது',\n",
              " 'நெஞ்சைத்',\n",
              " 'தொடுகிறது',\n",
              " 'நீங்கள்',\n",
              " 'எனக்கு',\n",
              " 'நல்லது',\n",
              " 'செய்திருக்கிறீர்கள்',\n",
              " 'மிகவும்',\n",
              " 'அழகாக',\n",
              " 'இருக்கிறது',\n",
              " 'என்கிறேன்',\n",
              " 'நான்',\n",
              " 'அதுவே',\n",
              " 'கட்டிடக்கலை',\n",
              " 'எனக்',\n",
              " 'குறிப்பிடுகிறார்',\n",
              " '20',\n",
              " 'ஆம்',\n",
              " 'நூற்றாண்டின்',\n",
              " 'ஐரோப்பிய',\n",
              " 'வரலாற்றாசிரியரான',\n",
              " 'நிக்கொலஸ்',\n",
              " 'பெவ்ஸ்னர்',\n",
              " 'என்பாருடைய',\n",
              " 'கூற்றுப்படி',\n",
              " 'ஒரு',\n",
              " 'துவிச்சக்கரவண்டிக்',\n",
              " 'கொட்டகை',\n",
              " 'ஒரு',\n",
              " 'சாதாரண',\n",
              " 'கட்டிடமும்',\n",
              " 'லிங்கன்',\n",
              " 'பேராலயம்',\n",
              " 'ஒரு',\n",
              " 'கட்டிடக்கலை',\n",
              " 'சார்ந்த',\n",
              " 'கட்டிடமுமாகும்',\n",
              " 'தற்காலச்',\n",
              " 'சிந்தனைப்',\n",
              " 'போக்குகளுக்கு',\n",
              " 'அமைய',\n",
              " 'இத்தகைய',\n",
              " 'பிரிவு',\n",
              " 'அவ்வளவு',\n",
              " 'தெளிவானதாக',\n",
              " 'இல்லை',\n",
              " 'பெர்னாட்',\n",
              " 'ருடோவ்ஸ்கி',\n",
              " 'என்பாரது',\n",
              " 'கட்டிடக்கலைஞன்',\n",
              " 'இல்லாத',\n",
              " 'கட்டிடக்கலை',\n",
              " 'என்னும்',\n",
              " 'பிரபலமான',\n",
              " 'நூல்',\n",
              " 'சாதாரண',\n",
              " 'மக்களால்',\n",
              " 'கட்டப்பட்ட',\n",
              " 'பல்வேறு',\n",
              " 'தரத்திலான',\n",
              " 'கட்டிடங்களையும்',\n",
              " 'கட்டிடக்கலையின்',\n",
              " 'ஆளுகைக்குள்',\n",
              " 'கொண்டுவந்தது',\n",
              " 'வரலாற்றில்',\n",
              " 'பின்னோக்கிச்',\n",
              " 'செல்லும்போது',\n",
              " 'கட்டிடக்கலைசார்',\n",
              " 'கட்டிடங்கள்',\n",
              " 'எவை',\n",
              " 'அவ்வாறில்லதவை',\n",
              " 'எவை',\n",
              " 'என்பதிலே',\n",
              " 'கருத்தொற்றுமை',\n",
              " 'காணப்பட்டது',\n",
              " 'விருவியசைப்',\n",
              " 'போல்',\n",
              " 'நல்ல',\n",
              " 'கட்டிடங்களே',\n",
              " 'கட்டிடக்கலைசார்ந்த',\n",
              " 'கட்டிடங்கள்',\n",
              " 'என',\n",
              " 'வரைவிலக்கணப்படுத்தினால்',\n",
              " 'கூடாத',\n",
              " 'கட்டிடக்கலைசார்ந்த',\n",
              " 'கட்டிடங்கள்',\n",
              " 'இல்லையா',\n",
              " 'என்ற',\n",
              " 'கேள்வி',\n",
              " 'எழும்',\n",
              " 'இப்',\n",
              " 'பிரச்சினையிலிருந்து',\n",
              " 'விடுபடுவதற்கு',\n",
              " 'கட்டிடக்கலைசார்',\n",
              " 'கட்டிடங்கள்',\n",
              " 'என்பதற்கு',\n",
              " 'கட்டிடக்கலைஞரால்',\n",
              " 'வடிவமைக்கப்பட்ட',\n",
              " 'கட்டிடங்கள்',\n",
              " 'என்றும்',\n",
              " 'வரைவிலக்கணம்',\n",
              " 'கூறலாம்',\n",
              " 'எனச்',\n",
              " 'சிலர்',\n",
              " 'கூறுகிறார்கள்',\n",
              " 'இது',\n",
              " 'கட்டிடக்கலைஞர்',\n",
              " 'என்பதன்',\n",
              " 'வரைவிலக்கணம்',\n",
              " 'பற்றிய',\n",
              " 'இன்னொரு',\n",
              " 'சர்ச்சையை',\n",
              " 'உருவாக்குவதைத்',\n",
              " 'தவிர்க்க',\n",
              " 'முடியாது',\n",
              " 'கட்டிடக்கலையின்',\n",
              " 'தற்காலக்',\n",
              " 'கருத்துருக்கள்',\n",
              " '19',\n",
              " 'ஆம்',\n",
              " 'நூற்றாண்டின்',\n",
              " 'புகழ்',\n",
              " 'பெற்ற',\n",
              " 'கட்டிடக்கலைஞர்',\n",
              " 'லூயிஸ்',\n",
              " 'சலிவன்',\n",
              " 'கட்டிடக்கலை',\n",
              " 'வடிவமைப்பில்',\n",
              " 'புதிய',\n",
              " 'நோக்கு',\n",
              " 'ஒன்றை',\n",
              " 'வளர்ப்பதற்கு',\n",
              " 'முயற்சித்தார்',\n",
              " 'செயற்பாட்டுத்',\n",
              " 'தன்மைக்கு',\n",
              " 'முக்கியத்துவம்',\n",
              " 'கொடுக்கும்',\n",
              " 'இந்த',\n",
              " 'நோக்குக்கு',\n",
              " 'அமைய',\n",
              " 'செயற்பாட்டுத்',\n",
              " 'தேவைகளிலிருந்தே',\n",
              " 'வடிவம்',\n",
              " 'உருவாகின்றது',\n",
              " 'என்னும்',\n",
              " 'கருத்து',\n",
              " 'முன்வைக்கப்பட்டது',\n",
              " 'செயற்பாட்டு',\n",
              " 'நோக்கின்',\n",
              " 'அடைப்படையிலேயே',\n",
              " 'அமைப்பும்',\n",
              " 'அழகியலும்',\n",
              " 'நோக்கப்படவேண்டும்',\n",
              " 'என்னும்',\n",
              " 'இக்',\n",
              " 'கருத்து',\n",
              " 'பரவலான',\n",
              " 'ஆதரவையும்',\n",
              " 'எதிர்ப்பையும்',\n",
              " 'பெற்றது',\n",
              " 'செயற்பாடு',\n",
              " 'என்னும்',\n",
              " 'இப்',\n",
              " 'புதிய',\n",
              " 'கருத்துரு',\n",
              " 'கட்டிடங்களின்',\n",
              " 'உளவியல்',\n",
              " 'அழகியல்',\n",
              " 'பண்பாட்டுப்',\n",
              " 'பயன்கள்',\n",
              " 'உட்பட',\n",
              " 'எல்லா',\n",
              " 'வகையான',\n",
              " 'பயன்களும்',\n",
              " 'குறித்த',\n",
              " 'எல்லா',\n",
              " 'அளபுருக்களையும்',\n",
              " 'தன்னுள்',\n",
              " 'அடக்கியிருந்தது',\n",
              " 'கட்டிடக்கலைஞர்களும்',\n",
              " 'கோட்பாடும்',\n",
              " 'பல',\n",
              " 'கட்டிடக்கலைஞர்கள்',\n",
              " 'கோட்பாட்டை',\n",
              " 'ஒதுக்கித்',\n",
              " 'தள்ளினாலும்',\n",
              " 'செயல்முறையை',\n",
              " 'வளம்படுத்துவதில்',\n",
              " 'அதன்',\n",
              " 'முக்கியத்துவத்தைக்',\n",
              " 'குறைத்து',\n",
              " 'மதிப்பிட',\n",
              " 'முடியாது',\n",
              " 'விட்ருவியஸ்',\n",
              " 'தொடர்ந்து',\n",
              " 'சொன்னபடி',\n",
              " 'செய்முறையும்',\n",
              " 'கோட்பாடும்',\n",
              " 'கட்டிடக்கலையின்',\n",
              " 'பெற்றோருக்குச்',\n",
              " 'சமம்',\n",
              " 'செயல்முறை',\n",
              " 'என்பது',\n",
              " 'கொடுக்கப்பட்ட',\n",
              " 'வேலைகளை',\n",
              " 'நடைமுறைப்படுத்தும்',\n",
              " 'முறைகளைக்',\n",
              " 'கைக்கொள்ளும்போது',\n",
              " 'அடிக்கடி',\n",
              " 'நிகழும்',\n",
              " 'தொடர்ச்சியான',\n",
              " 'சமநிலைப்படுத்தும்',\n",
              " 'செயலை',\n",
              " 'அல்லது',\n",
              " 'வெறுமனே',\n",
              " 'உடற்',\n",
              " 'செயல்பாட்டின்மூலம்',\n",
              " 'ஒரு',\n",
              " 'பொருளைச்',\n",
              " 'சிறந்த',\n",
              " 'பயன்படத்தக்க',\n",
              " 'ஒன்றாக',\n",
              " 'மாற்றுவதைக்',\n",
              " 'குறிக்கும்',\n",
              " 'கோட்பாடு',\n",
              " 'என்பது',\n",
              " 'ஒரு',\n",
              " 'பொருள்',\n",
              " 'பிரேரிக்கப்பட்ட',\n",
              " 'முடிவை',\n",
              " 'அடையும்வகையில்',\n",
              " 'மாற்றப்பட்டுள்ளது',\n",
              " 'என்பதை',\n",
              " 'எடுத்துக்காட்டுவதும்',\n",
              " 'விளக்குவதுமான',\n",
              " 'காரணத்',\n",
              " 'தொடர்பாக்கத்தின்',\n",
              " 'விளைவாகும்',\n",
              " 'வெறுமனே',\n",
              " 'செய்முறையிலூறிய',\n",
              " 'கட்டிடக்கலைஞன்',\n",
              " 'தான்',\n",
              " 'எடுத்துக்கொண்ட',\n",
              " 'வடிவுருக்களுக்கான',\n",
              " 'காரணங்களை',\n",
              " 'எடுத்துக்காட்ட',\n",
              " 'முடிவதில்லை',\n",
              " 'கோட்பாட்டுக்',\n",
              " 'கட்டிடக்கலைஞனும்',\n",
              " 'பொருளை',\n",
              " 'விட்டு',\n",
              " 'நிழலைப்',\n",
              " 'பிடிப்பதன்',\n",
              " 'மூலம்',\n",
              " 'தோல்வியடைகிறான்',\n",
              " 'எவனொருவன்',\n",
              " 'கோட்பாடு',\n",
              " 'செயல்முறை',\n",
              " 'இரண்டிலும்',\n",
              " 'வல்லவனாக',\n",
              " 'இருக்கிறானோ',\n",
              " 'அவன்',\n",
              " 'இரட்டைப்',\n",
              " 'பலமுள்ளவன்',\n",
              " 'தன்னுடைய',\n",
              " 'வடிவமைப்பின்',\n",
              " 'தகுதியை',\n",
              " 'நிரூபிக்கக்கூடியவனாக',\n",
              " 'இருக்கின்றது',\n",
              " 'மட்டுமன்றி',\n",
              " 'அதைத்',\n",
              " 'திறமையாகச்',\n",
              " 'செயற்படுத்தக்கூடியவனயும்',\n",
              " 'இருப்பான்',\n",
              " 'வரலாறு',\n",
              " 'தொல்பழங்காலமும்',\n",
              " 'கட்டிடக்கலையும்',\n",
              " 'கட்டிடக்கலையென்பது',\n",
              " 'ஆரம்பத்தில்',\n",
              " 'தேவைகளுக்கும்',\n",
              " 'உகந்த',\n",
              " 'சூழல்',\n",
              " 'பாதுகாப்பு',\n",
              " 'என்பன',\n",
              " 'கிடைக்கக்',\n",
              " 'கூடிய',\n",
              " 'கட்டிடப்பொருள்கள்',\n",
              " 'தொழில்',\n",
              " 'நுட்பம்',\n",
              " 'முதலியன',\n",
              " 'என்பவற்றுக்கிடையிலான',\n",
              " 'இயக்கப்பாடுகளிலிருந்து',\n",
              " 'பரிணமித்ததாகும்',\n",
              " 'தொல்பழங்கால',\n",
              " 'பழங்காலக்',\n",
              " 'கட்டிடங்கள்',\n",
              " 'இவ்வகையைச்',\n",
              " 'சேர்ந்தனவாகும்',\n",
              " 'மனித',\n",
              " 'முன்னேற்றத்துடன்',\n",
              " 'அறிவுத்துறைகளும்',\n",
              " 'வாய்மொழி',\n",
              " 'மரபுகளினாலும்',\n",
              " 'செயல்முறைகளினாலும்',\n",
              " 'ஒழுங்கமையத்',\n",
              " 'தொடங்கியபோது',\n",
              " 'கட்டிடம்',\n",
              " 'கட்டுதல்',\n",
              " 'ஒரு',\n",
              " 'கலையாக',\n",
              " 'உருவானது',\n",
              " 'இங்கே',\n",
              " 'முதலில்',\n",
              " 'முயன்று',\n",
              " 'தெரிதல்',\n",
              " 'முறையின்',\n",
              " 'பயன்பாடு',\n",
              " 'பின்னர்',\n",
              " 'அவற்றில்',\n",
              " 'தேவைக்கேற்ற',\n",
              " 'மாற்றங்கள்',\n",
              " 'அல்லது',\n",
              " 'வெற்றிகரமான',\n",
              " 'முயற்சிகளைப்',\n",
              " 'பிரதிபண்ணல்',\n",
              " 'எனப்',\n",
              " 'பரிணாம',\n",
              " 'வளர்ச்சி',\n",
              " 'நடைபெற்றது',\n",
              " 'கட்டிடக்கலைஞர்',\n",
              " 'மட்டுமே',\n",
              " 'இங்கு',\n",
              " 'முக்கியமானவர்',\n",
              " 'அல்ல',\n",
              " 'இவர்கள்',\n",
              " 'பங்கு',\n",
              " 'சதவீத',\n",
              " 'அடிப்படையில்',\n",
              " 'மிகக்',\n",
              " 'குறைவே',\n",
              " 'விசேடமாக',\n",
              " 'வளரும்',\n",
              " 'நாடுகளில்',\n",
              " 'இது',\n",
              " '5',\n",
              " 'அளவுக்கும்',\n",
              " 'குறைவே',\n",
              " 'என்றும்',\n",
              " 'கூறப்படுகின்றது',\n",
              " 'அவர்',\n",
              " 'தொடர்ந்துவரும்',\n",
              " 'கட்டிடக்கலை',\n",
              " 'மரபுகளில்',\n",
              " 'ஒரு',\n",
              " 'பகுதியேயாவர்',\n",
              " 'நாட்டார்',\n",
              " 'மரபு',\n",
              " 'என்று',\n",
              " 'அழைக்கப்படும்',\n",
              " 'மரபுசார்',\n",
              " 'கட்டிடமுறை',\n",
              " 'இதற்கு',\n",
              " 'ஒரு',\n",
              " 'எடுத்துக்',\n",
              " 'காட்டாகும்',\n",
              " 'உலகின்',\n",
              " 'எல்லாப்',\n",
              " 'பகுதிகளிலும்',\n",
              " 'பெரும்பாலான',\n",
              " 'கட்டிடங்கள்',\n",
              " 'இம்முறையிலேயே',\n",
              " 'கட்டிடக்கலைஞர்',\n",
              " 'அல்லாதவர்களால்',\n",
              " 'உருவாக்கப்படுகின்றன',\n",
              " 'முற்கால',\n",
              " 'மனிதர்',\n",
              " 'குடியிருப்புகள்',\n",
              " 'கிராமம்',\n",
              " 'சார்ந்தவையாகும்',\n",
              " 'உற்பத்திப்',\n",
              " 'பெருக்கம்',\n",
              " 'ஏற்பட்டபோது',\n",
              " 'கிராமச்',\n",
              " 'சமுதாயங்கள்',\n",
              " 'நகர்சார்',\n",
              " 'சமுதாயங்களாக',\n",
              " 'வளர்ச்சி',\n",
              " 'பெறத்தொடங்கின',\n",
              " 'கட்டிடங்கள்',\n",
              " 'அதிக',\n",
              " 'சிக்கலானவையாக',\n",
              " 'ஆனதுடன்',\n",
              " 'அவற்றின்',\n",
              " 'வகைகளும்',\n",
              " 'அதிகரித்தன',\n",
              " 'வீதிகள்',\n",
              " 'பாலங்கள்',\n",
              " 'போன்ற',\n",
              " 'குடிசார்',\n",
              " 'கட்டுமானங்களும்',\n",
              " 'பாடசாலைகள்',\n",
              " 'மருத்துவமனைகள்',\n",
              " 'பொழுதுபோக்கு',\n",
              " 'வசதிகளுக்கான',\n",
              " 'கட்டிடங்கள்',\n",
              " 'எனப்',\n",
              " 'புதிய',\n",
              " 'கட்டிடவகைகளும்',\n",
              " 'பெருகத்தொடங்கின',\n",
              " 'எனினும்',\n",
              " 'சமயம்',\n",
              " 'சார்ந்த',\n",
              " 'கட்டிடக்கலை',\n",
              " 'அதன்',\n",
              " 'முதன்மையிடத்தைத்',\n",
              " 'தக்கவைத்துக்கொண்டிருந்தது',\n",
              " 'பல்வேறு',\n",
              " 'கட்டிடப்பாணிகளும்',\n",
              " 'வளர்ச்சியடையத்',\n",
              " 'தொடங்கியதுடன்',\n",
              " 'கட்டிடக்கலை',\n",
              " 'பற்றிய',\n",
              " 'எழுத்தாக்கங்களும்',\n",
              " 'உருவாகின',\n",
              " 'இவற்றிற்',\n",
              " 'சில',\n",
              " 'கட்டிடங்கள்',\n",
              " 'வடிவமைத்தல்',\n",
              " 'கட்டுதல்',\n",
              " 'தொடர்பில்',\n",
              " 'பின்பற்றவேண்டிய',\n",
              " 'விதிகளாக',\n",
              " 'உருப்பெற்றன',\n",
              " 'இந்தியாவின்',\n",
              " 'வாஸ்து',\n",
              " 'சாஸ்திரம்',\n",
              " 'சீனாவிலெழுந்த',\n",
              " 'பெங்',\n",
              " 'சுயி',\n",
              " 'போன்ற',\n",
              " 'கீழைத்',\n",
              " 'தேச',\n",
              " 'நூல்களும்',\n",
              " 'மேலை',\n",
              " 'நாட்டிலெழுந்த',\n",
              " 'விட்ருவியசின்',\n",
              " 'நூலும்',\n",
              " 'இதற்கு',\n",
              " 'உதாரணங்களாகும்',\n",
              " 'கிளாசிக்கல்',\n",
              " 'மற்றும்',\n",
              " 'மத்திய',\n",
              " 'காலங்களில்',\n",
              " 'ஐரோப்பாவில்',\n",
              " 'கட்டிடக்கலைத்',\n",
              " 'துறையில்',\n",
              " 'தனிப்பட்ட',\n",
              " 'கட்டிடக்கலைஞர்கள்',\n",
              " 'முதன்மைப்படுத்தப்படவில்லை',\n",
              " 'பண்டை',\n",
              " 'எகிப்தியக்',\n",
              " 'கட்டிடக்கலை',\n",
              " 'கட்டிடக்கலையின்',\n",
              " 'வரலாற்றில்',\n",
              " 'பாரிய',\n",
              " 'கட்டுமானங்களைக்',\n",
              " 'கட்டிய',\n",
              " 'மிகப்',\n",
              " 'பழைய',\n",
              " 'நாகரிகங்களுள்',\n",
              " 'ஆப்பிரிக்காவின்',\n",
              " 'நைல்',\n",
              " 'ஆற்றங்கரையில்',\n",
              " 'உருவாகிச்',\n",
              " 'செழித்த',\n",
              " 'எகிப்திய',\n",
              " 'நாகரிகம்',\n",
              " 'முதன்மையானது',\n",
              " 'இம்',\n",
              " 'மக்கள்',\n",
              " 'மிகப்',\n",
              " 'பெரிய',\n",
              " 'பிரமிட்டுகளையும்',\n",
              " 'கோயில்களையும்',\n",
              " 'உருவாக்கினர்',\n",
              " 'பல',\n",
              " 'வரலாற்றாளர்களும்',\n",
              " 'உலகக்',\n",
              " 'கட்டிடக்கலை',\n",
              " 'வரலாற்றின்',\n",
              " 'தொடக்கத்தை',\n",
              " 'இங்கிருந்துதான்',\n",
              " 'தொடங்குகிறார்கள்',\n",
              " 'ஐரோப்பாவின்',\n",
              " 'தொடக்ககால',\n",
              " 'நாகரிகங்களான',\n",
              " 'கிரேக்க',\n",
              " 'ரோமர்காலக்',\n",
              " 'கட்டிடக்கலைகளுக்கான',\n",
              " 'பல',\n",
              " 'அடிப்படைகளை',\n",
              " 'எகிப்தியக்',\n",
              " 'கட்டிடக்கலையில்',\n",
              " 'அடையாளம்',\n",
              " 'காண',\n",
              " 'முடியும்',\n",
              " 'மெசொப்பொத்தேமியக்',\n",
              " 'கட்டிடக்கலை',\n",
              " 'தற்கால',\n",
              " 'ஈராக்கிலுள்ள',\n",
              " 'யூபிரட்டீஸ்',\n",
              " 'டைகிரிஸ்',\n",
              " 'ஆகிய',\n",
              " 'ஆறுகளுக்கு',\n",
              " 'இடையேயுள்ள',\n",
              " 'பகுதியில்',\n",
              " 'செழித்து',\n",
              " 'வளர்ந்த',\n",
              " 'மெசொப்பொத்தேமிய',\n",
              " 'நாகரிகம்',\n",
              " 'உலகக்',\n",
              " 'கட்டிடக்கலை',\n",
              " 'வளர்ச்சிக்குப்',\n",
              " 'பெரும்',\n",
              " 'பங்களிப்புக்களைச்',\n",
              " 'செய்த',\n",
              " 'இன்னொரு',\n",
              " 'தொன்மையான',\n",
              " 'ஆசிய',\n",
              " 'நாகரிகம்',\n",
              " 'ஆகும்',\n",
              " 'மெசொப்பொத்தேமிய',\n",
              " 'ஆற்றுப்படுக்கையிலும்',\n",
              " 'மேற்கு',\n",
              " 'ஈரானியப்',\n",
              " 'பீடபூமியிலும்',\n",
              " 'கட்டப்பட்ட',\n",
              " 'சிகுரட்',\n",
              " 'எனப்படும்',\n",
              " 'கூம்பக',\n",
              " 'வடிவ',\n",
              " 'கோயில்',\n",
              " 'கோபுரங்கள்',\n",
              " 'இதற்குச்',\n",
              " 'சான்று',\n",
              " 'பகர்கின்றன',\n",
              " 'இவை',\n",
              " 'பல',\n",
              " 'படிகளாகக்',\n",
              " 'கட்டப்பட்டுள்ளன',\n",
              " 'இவ்வாறான',\n",
              " '32',\n",
              " 'சிகுரட்கள்',\n",
              " 'அறியப்பட்டுள்ளன',\n",
              " 'இவற்றுள்',\n",
              " '28',\n",
              " 'ஈராக்கிலும்',\n",
              " '4',\n",
              " 'ஈரானிலும்',\n",
              " 'உள்ளன',\n",
              " 'பண்டைய',\n",
              " 'கிரேக்க',\n",
              " 'கட்டிடக்கலை',\n",
              " 'பண்டைக்',\n",
              " 'கிரேக்க',\n",
              " 'நாகரிகம்',\n",
              " 'கிமு',\n",
              " '1900',\n",
              " 'தொடக்கம்',\n",
              " 'கிமு',\n",
              " '133',\n",
              " 'வரையான',\n",
              " 'காலப்பகுதியில்',\n",
              " 'செழித்திருந்தது',\n",
              " 'ஆனால்',\n",
              " 'இதன்',\n",
              " 'தாக்கம்',\n",
              " 'இன்றுவரை',\n",
              " 'மேற்கு',\n",
              " 'நாட்டுப்',\n",
              " 'பண்பாட்டில்',\n",
              " 'உணரப்பட்டு',\n",
              " 'வருகிறது',\n",
              " 'கிரேக்கர்கள்',\n",
              " 'உலகக்',\n",
              " 'கட்டிடக்கலைக்குப்',\n",
              " 'பல',\n",
              " 'குறிப்பிடத்தக்க',\n",
              " 'பங்களிப்புக்களைச்',\n",
              " 'செய்துள்ளனர்',\n",
              " 'இக்காலத்தில்',\n",
              " 'கட்டப்பட்ட',\n",
              " 'கட்டிடங்களுள்',\n",
              " 'முதன்மையானவை',\n",
              " 'கோயில்கள்',\n",
              " 'ஆகும்',\n",
              " 'கிரேக்கக்',\n",
              " 'கோயில்கள்',\n",
              " 'எகிப்தியக்',\n",
              " 'கோயில்களைவிடச்',\n",
              " 'சிறியவை',\n",
              " 'இவை',\n",
              " 'ஆள்பவர்களின்',\n",
              " 'அதிகாரத்தைக்',\n",
              " 'காட்டுவதற்காகவோ',\n",
              " ...]"
            ]
          },
          "metadata": {},
          "execution_count": 7
        }
      ]
    },
    {
      "cell_type": "code",
      "metadata": {
        "colab": {
          "base_uri": "https://localhost:8080/"
        },
        "id": "-6bZZWlOW9sU",
        "outputId": "8c8c5ec2-425c-4b23-8e1e-8668f8f725d4"
      },
      "source": [
        "import pandas as pd\n",
        "bigrams_series = (pd.Series(nltk.ngrams(tokenized, 2)).value_counts())[:12]\n",
        "bigrams_series"
      ],
      "execution_count": null,
      "outputs": [
        {
          "output_type": "execute_result",
          "data": {
            "text/plain": [
              "(ஆம், ஆண்டில்)         29\n",
              "(ஐக்கிய, நாடுகள்)      27\n",
              "(ஆம், ஆண்டு)           25\n",
              "(ஐக்கிய, அரபு)         20\n",
              "(இந்திய, துணைக்)       18\n",
              "(ஆம், நூற்றாண்டில்)    18\n",
              "(என்பது, ஒரு)          13\n",
              "(சிவாஜி, கணேசன்)       13\n",
              "(ஆம், நூற்றாண்டின்)    12\n",
              "(துணைக், கண்டம்)       12\n",
              "(என்ற, சொல்)           12\n",
              "(19, ஆம்)              11\n",
              "dtype: int64"
            ]
          },
          "metadata": {},
          "execution_count": 8
        }
      ]
    },
    {
      "cell_type": "markdown",
      "metadata": {
        "id": "EFniWMWejDKH"
      },
      "source": [
        "## Plotting of 20 most frequently occuring bigrams"
      ]
    },
    {
      "cell_type": "code",
      "metadata": {
        "colab": {
          "base_uri": "https://localhost:8080/",
          "height": 530
        },
        "id": "d9HOtR_ep_5o",
        "outputId": "88537c94-e597-4764-a533-17bbefc8d14c"
      },
      "source": [
        "import matplotlib.pyplot as plt\n",
        "from matplotlib import rc\n",
        "import matplotlib as mlp\n",
        "from pathlib import Path\n",
        "import matplotlib.font_manager as fontmanager\n",
        "nirm = Path('/content/drive/MyDrive/nlp_da1/vijaya.ttf')\n",
        "tam_font = fontmanager.FontProperties(fname=nirm)\n",
        "bigrams_series.sort_values().plot.barh(color='blue', width=.9, figsize=(12, 8))\n",
        "plt.title('20 Most Frequently Occuring Bigrams')\n",
        "plt.yticks(fontproperties=tam_font)\n",
        "plt.ylabel('Bigram')\n",
        "plt.xlabel(' # of Occurances')"
      ],
      "execution_count": null,
      "outputs": [
        {
          "output_type": "execute_result",
          "data": {
            "text/plain": [
              "Text(0.5, 0, ' # of Occurances')"
            ]
          },
          "metadata": {},
          "execution_count": 9
        },
        {
          "output_type": "display_data",
          "data": {
            "image/png": "[encoded data removed]",
            "text/plain": [
              "<Figure size 864x576 with 1 Axes>"
            ]
          },
          "metadata": {
            "needs_background": "light"
          }
        }
      ]
    },
    {
      "cell_type": "markdown",
      "metadata": {
        "id": "JvUrqiEDjKzj"
      },
      "source": [
        "## plotting of most frequently occuring unigrams"
      ]
    },
    {
      "cell_type": "code",
      "metadata": {
        "colab": {
          "base_uri": "https://localhost:8080/",
          "height": 941
        },
        "id": "0hvwESFlK2T5",
        "outputId": "43dc9820-ccf5-4e57-9bb5-5d15ac2afcf8"
      },
      "source": [
        "from collections import Counter\n",
        "import seaborn as sns\n",
        "import matplotlib.font_manager as fontmanager\n",
        "import matplotlib as mpl\n",
        "import matplotlib.pyplot as plt\n",
        "frequency = Counter(tokenized)\n",
        "df = pd.DataFrame(frequency.most_common(30))\n",
        "plt.rcParams['figure.figsize'] = [12, 15]\n",
        "df.columns =['Word', 'Frequency']\n",
        "df_sorted= df.sort_values('Frequency')\n",
        "df_sorted.head()\n",
        "sns.set(font_scale = 1.3, style = 'whitegrid')\n",
        "nirm = Path('/content/drive/MyDrive/nlp_da1/vijaya.ttf')\n",
        "tam_font = fontmanager.FontProperties(fname=nirm)\n",
        "\n",
        "# plotting\n",
        "fig = plt.figure(figsize=(30, 25))\n",
        "ax = df_sorted.plot.barh(x='Word', y='Frequency')\n",
        "for i in ax.patches:\n",
        "    plt.text(i.get_width()+0.2, i.get_y()+0.5,\n",
        "             str(round((i.get_width()), 2)),\n",
        "             fontsize=10, fontweight='bold',\n",
        "             color='grey')\n",
        "plt.title('Word Count')\n",
        "plt.yticks(fontproperties=tam_font)\n",
        "plt.ylabel('word')\n",
        "plt.xlabel(' # of Occurances')"
      ],
      "execution_count": null,
      "outputs": [
        {
          "output_type": "execute_result",
          "data": {
            "text/plain": [
              "Text(0.5, 0, ' # of Occurances')"
            ]
          },
          "metadata": {},
          "execution_count": 10
        },
        {
          "output_type": "display_data",
          "data": {
            "text/plain": [
              "<Figure size 2160x1800 with 0 Axes>"
            ]
          },
          "metadata": {}
        },
        {
          "output_type": "display_data",
          "data": {
            "image/png": "[encoded data removed]",
            "text/plain": [
              "<Figure size 864x1080 with 1 Axes>"
            ]
          },
          "metadata": {}
        }
      ]
    },
    {
      "cell_type": "markdown",
      "metadata": {
        "id": "u0RwJ1NajPlW"
      },
      "source": [
        "## Compiling all text files together for complete analyses\n",
        "\n",
        "\n",
        "Here we will compile the text files, do tokenization process then save all texts files together in one file\n",
        "\n",
        "---\n",
        "\n"
      ]
    },
    {
      "cell_type": "code",
      "metadata": {
        "id": "KjMICKfUPAC9"
      },
      "source": [
        "import os\n",
        "for dirname, _, filenames in os.walk('/content/drive/MyDrive/nlp_da1/tawiki_small/'):\n",
        "    for filename in filenames:\n",
        "        with open('corpus.txt', 'a', encoding='latin-1') as ffile:\n",
        "            with open(os.path.join(dirname, filename), 'r', encoding='latin-1') as rfile:\n",
        "                ffile.write(rfile.read())"
      ],
      "execution_count": null,
      "outputs": []
    },
    {
      "cell_type": "code",
      "metadata": {
        "id": "7tAdg7EhRwQI"
      },
      "source": [
        "def getListWordsPreprocessed(corpus):\n",
        "    ''' return a corpus after removing all the patterns and the xml markup (if any) '''\n",
        "    text = corpus.lower()\n",
        "    text = re.sub('<.*>', '', text)\n",
        "    text = re.sub('ENDOFARTICLE.', '', text)\n",
        "    punctuation2remove = \"[\" + re.sub('[,.;:?!()+/-]', '', string.punctuation) + \"]\"\n",
        "    text = re.sub(punctuation2remove, '', text)\n",
        "    text = re.sub('\\n\\n+', '\\n', text)\n",
        "    text = re.sub(';+\\n', '\\n', text)\n",
        "    text = re.sub('\\s*-\\s', ' ', text)\n",
        "    text = re.sub('\\s+\\.', ' ', text)\n",
        "    text = re.sub('^\\n', '', text, flags=re.MULTILINE)\n",
        "    text = re.sub('^\\s*\\w+\\s*\\n', '', text, flags=re.MULTILINE)\n",
        "    text = re.sub('\\((\\s*|\\+*|\\w\\.\\s*)\\d+(\\-*|\\s*|,\\s*)\\d*\\-*\\)', ' ', text)\n",
        "    text = re.sub('\\(\\s*\\)', ' ', text)\n",
        "    text = text.replace(',', '')\n",
        "    text = text.replace('.', '')\n",
        "    text = text.replace(';', '')\n",
        "    text = text.replace(':', '')\n",
        "    text = text.replace('?', '')\n",
        "    text = text.replace('!', '')\n",
        "    text = text.replace('(', '')\n",
        "    text = text.replace(')', '')\n",
        "    text = text.replace('/', '')\n",
        "    text = text.replace('+', '')\n",
        "    text = text.replace('-', '')\n",
        "    text = re.sub('\\s\\d+\\s', '', text)\n",
        "    words = text.split()\n",
        "    #remove all words with 5 or fewer occurences\n",
        "    word_cnts = Counter(words)\n",
        "    trimmed_words = [word for word in words if word_cnts[word] > 5]\n",
        "    return trimmed_words"
      ],
      "execution_count": null,
      "outputs": []
    },
    {
      "cell_type": "markdown",
      "metadata": {
        "id": "Tiig4y-djh2w"
      },
      "source": [
        "## Frequently used tamil word\n",
        "\n",
        "Here we do process to find the most frequently used tamil words by referring the given dataset"
      ]
    },
    {
      "cell_type": "code",
      "metadata": {
        "colab": {
          "base_uri": "https://localhost:8080/"
        },
        "id": "PTXK228BQsg9",
        "outputId": "ab885997-cc8c-4d28-f757-a64768f16bc7"
      },
      "source": [
        "with open('./corpus.txt', 'r') as f:\n",
        "    text = f.read()\n",
        "words = getListWordsPreprocessed(text)\n",
        "print(words[:50])"
      ],
      "execution_count": null,
      "outputs": [
        {
          "output_type": "stream",
          "name": "stdout",
          "text": [
            "['முதற்', 'பக்கம்', 'gt', 'கட்டிடக்கலை', 'கட்டிடக்கலை', 'என்பது', 'கட்டிடங்கள்', 'மற்றும்', 'அதன்', 'உடல்', 'கட்டமைப்புகளை', 'வடிவமைத்தல்', 'செயல்முறைத்', 'திட்டமிடல்', 'மற்றும்', 'கட்டிடங்கள்', 'கட்டுவதை', 'உள்ளடக்கியதாகும்', 'கட்டடக்கலை', 'படைப்புகள்', 'கட்டிடங்கள்', 'பொருள்', 'வடிவம்', 'பெரும்பாலும்', 'கலாச்சார', 'சின்னங்களாக', 'மற்றும்', 'கலை', 'படைப்புகளாக', 'காணப்படுகின்றது', 'வரலாற்று', 'நாகரிகங்கள்', 'பெரும்பாலும்', 'அவர்களின்', 'கட்டிடகலை', 'சாதனைகளின்', 'மூலம்', 'அடையாளம்', 'காணப்படுகின்றன', 'ஒரு', 'விரிவான', 'வரைவிலக்கணம்', 'நகரத்', 'திட்டமிடல்', 'நகர்ப்புற', 'வடிவமைப்பு', 'மற்றும்', 'நிலத்தோற்றம்', 'முதலியவற்றையும்', 'தளபாடங்கள்']\n"
          ]
        }
      ]
    },
    {
      "cell_type": "code",
      "metadata": {
        "colab": {
          "base_uri": "https://localhost:8080/"
        },
        "id": "moY1TmCQR_Fa",
        "outputId": "3e6be454-a33c-49ee-fb9d-8f0111a5c772"
      },
      "source": [
        "print(\"Total amount of words: {}\".format(len(words)))\n",
        "print(\"Amount of unique words: {}\".format(len(set(words))))"
      ],
      "execution_count": null,
      "outputs": [
        {
          "output_type": "stream",
          "name": "stdout",
          "text": [
            "Total amount of words: 20176014\n",
            "Amount of unique words: 240619\n"
          ]
        }
      ]
    },
    {
      "cell_type": "code",
      "metadata": {
        "colab": {
          "base_uri": "https://localhost:8080/"
        },
        "id": "uk2JM09zR_vY",
        "outputId": "858a8ea1-edb2-4155-9cb0-366b043ef921"
      },
      "source": [
        "# creating a counter of words ...\n",
        "vocabulary_counts = Counter(words)\n",
        "# let's see the 10 most common words\n",
        "print(\"10 most commmon words:\")\n",
        "print(vocabulary_counts.most_common(10))\n",
        "\n",
        "# sorting the words in order of frequency (from most to least frequent)\n",
        "vocabulary_sorted = sorted(vocabulary_counts, key=vocabulary_counts.get, reverse=True)\n",
        "\n",
        "# creating the lookup tables\n",
        "int_to_vocab = {ii: word for ii, word in enumerate(vocabulary_sorted)}\n",
        "vocab_to_int = {word: ii for ii, word in int_to_vocab.items()}\n",
        "\n",
        "# create a vocabulary of ints (i..e map the complete vocabulary to its int values)\n",
        "int_vocabulary = [vocab_to_int[word] for word in words]\n",
        "print(\"First 50 int-words of the int vocabulary:\")\n",
        "print(int_vocabulary[:50])"
      ],
      "execution_count": null,
      "outputs": [
        {
          "output_type": "stream",
          "name": "stdout",
          "text": [
            "10 most commmon words:\n",
            "[('மற்றும்', 247361), ('ஒரு', 202780), ('இந்த', 140002), ('இது', 96260), ('என்ற', 91380), ('இவர்', 78561), ('உள்ள', 75862), ('ஆண்டு', 68529), ('என்பது', 65729), ('ஆகும்', 65482)]\n",
            "First 50 int-words of the int vocabulary:\n",
            "[5370, 2064, 4502, 1981, 1981, 8, 2318, 0, 39, 354, 16779, 21048, 58960, 4760, 0, 2318, 83769, 11304, 6938, 1516, 2318, 213, 727, 195, 1157, 34293, 0, 368, 56047, 1710, 435, 19856, 195, 382, 187568, 53541, 34, 760, 351, 1, 1784, 10543, 9911, 4760, 4387, 1297, 0, 50132, 42858, 35812]\n"
          ]
        }
      ]
    },
    {
      "cell_type": "code",
      "metadata": {
        "colab": {
          "base_uri": "https://localhost:8080/"
        },
        "id": "pYwTJ_4UWnq2",
        "outputId": "64ae3aba-4b15-4eac-d39a-61e07221c24c"
      },
      "source": [
        "frequent= vocabulary_counts.most_common(10)\n",
        "frequent"
      ],
      "execution_count": null,
      "outputs": [
        {
          "output_type": "execute_result",
          "data": {
            "text/plain": [
              "[('மற்றும்', 247361),\n",
              " ('ஒரு', 202780),\n",
              " ('இந்த', 140002),\n",
              " ('இது', 96260),\n",
              " ('என்ற', 91380),\n",
              " ('இவர்', 78561),\n",
              " ('உள்ள', 75862),\n",
              " ('ஆண்டு', 68529),\n",
              " ('என்பது', 65729),\n",
              " ('ஆகும்', 65482)]"
            ]
          },
          "metadata": {},
          "execution_count": 30
        }
      ]
    },
    {
      "cell_type": "code",
      "metadata": {
        "colab": {
          "base_uri": "https://localhost:8080/",
          "height": 357
        },
        "id": "wFhHIR5gfOr-",
        "outputId": "453de636-a3e6-4537-ea7f-2b1c9851efc5"
      },
      "source": [
        "freq = pd.DataFrame(frequent)\n",
        "freq"
      ],
      "execution_count": null,
      "outputs": [
        {
          "output_type": "execute_result",
          "data": {
            "text/html": [
              "<div>\n",
              "<style scoped>\n",
              "    .dataframe tbody tr th:only-of-type {\n",
              "        vertical-align: middle;\n",
              "    }\n",
              "\n",
              "    .dataframe tbody tr th {\n",
              "        vertical-align: top;\n",
              "    }\n",
              "\n",
              "    .dataframe thead th {\n",
              "        text-align: right;\n",
              "    }\n",
              "</style>\n",
              "<table border=\"1\" class=\"dataframe\">\n",
              "  <thead>\n",
              "    <tr style=\"text-align: right;\">\n",
              "      <th></th>\n",
              "      <th>0</th>\n",
              "      <th>1</th>\n",
              "    </tr>\n",
              "  </thead>\n",
              "  <tbody>\n",
              "    <tr>\n",
              "      <th>0</th>\n",
              "      <td>மற்றும்</td>\n",
              "      <td>247361</td>\n",
              "    </tr>\n",
              "    <tr>\n",
              "      <th>1</th>\n",
              "      <td>ஒரு</td>\n",
              "      <td>202780</td>\n",
              "    </tr>\n",
              "    <tr>\n",
              "      <th>2</th>\n",
              "      <td>இந்த</td>\n",
              "      <td>140002</td>\n",
              "    </tr>\n",
              "    <tr>\n",
              "      <th>3</th>\n",
              "      <td>இது</td>\n",
              "      <td>96260</td>\n",
              "    </tr>\n",
              "    <tr>\n",
              "      <th>4</th>\n",
              "      <td>என்ற</td>\n",
              "      <td>91380</td>\n",
              "    </tr>\n",
              "    <tr>\n",
              "      <th>5</th>\n",
              "      <td>இவர்</td>\n",
              "      <td>78561</td>\n",
              "    </tr>\n",
              "    <tr>\n",
              "      <th>6</th>\n",
              "      <td>உள்ள</td>\n",
              "      <td>75862</td>\n",
              "    </tr>\n",
              "    <tr>\n",
              "      <th>7</th>\n",
              "      <td>ஆண்டு</td>\n",
              "      <td>68529</td>\n",
              "    </tr>\n",
              "    <tr>\n",
              "      <th>8</th>\n",
              "      <td>என்பது</td>\n",
              "      <td>65729</td>\n",
              "    </tr>\n",
              "    <tr>\n",
              "      <th>9</th>\n",
              "      <td>ஆகும்</td>\n",
              "      <td>65482</td>\n",
              "    </tr>\n",
              "  </tbody>\n",
              "</table>\n",
              "</div>"
            ],
            "text/plain": [
              "         0       1\n",
              "0  மற்றும்  247361\n",
              "1      ஒரு  202780\n",
              "2     இந்த  140002\n",
              "3      இது   96260\n",
              "4     என்ற   91380\n",
              "5     இவர்   78561\n",
              "6     உள்ள   75862\n",
              "7    ஆண்டு   68529\n",
              "8   என்பது   65729\n",
              "9    ஆகும்   65482"
            ]
          },
          "metadata": {},
          "execution_count": 78
        }
      ]
    },
    {
      "cell_type": "markdown",
      "metadata": {
        "id": "4ypjY6g_jxKN"
      },
      "source": [
        "## Plotting 10 most freqeuntly used tamil words using barplot "
      ]
    },
    {
      "cell_type": "code",
      "metadata": {
        "colab": {
          "base_uri": "https://localhost:8080/",
          "height": 941
        },
        "id": "s7YI2p6aSgBS",
        "outputId": "a9629ddd-70da-4bee-cfbe-f26a939dda32"
      },
      "source": [
        "from collections import Counter\n",
        "import seaborn as sns\n",
        "import matplotlib.font_manager as fontmanager\n",
        "import matplotlib as mpl\n",
        "import matplotlib.pyplot as plt\n",
        "frequency = Counter(tokenized)\n",
        "df = pd.DataFrame(frequency.most_common(30))\n",
        "plt.rcParams['figure.figsize'] = [12, 15]\n",
        "freq.columns =['Word', 'Frequency']\n",
        "freq_sorted= freq.sort_values('Frequency')\n",
        "sns.set(font_scale = 1.3, style = 'whitegrid')\n",
        "nirm = Path('/content/drive/MyDrive/nlp_da1/vijaya.ttf')\n",
        "tam_font = fontmanager.FontProperties(fname=nirm)\n",
        "\n",
        "# plotting\n",
        "fig = plt.figure(figsize=(40, 35))\n",
        "ax = freq_sorted.plot.barh(x='Word', y='Frequency')\n",
        "for i in ax.patches:\n",
        "    plt.text(i.get_width()+0.2, i.get_y()+0.5,\n",
        "             str(round((i.get_width()), 2)),\n",
        "             fontsize=10, fontweight='bold',\n",
        "             color='grey')\n",
        "plt.title('Word Count')\n",
        "plt.yticks(fontproperties=tam_font)\n",
        "plt.ylabel('word')\n",
        "plt.xlabel(' # of Occurances')"
      ],
      "execution_count": null,
      "outputs": [
        {
          "output_type": "execute_result",
          "data": {
            "text/plain": [
              "Text(0.5, 0, ' # of Occurances')"
            ]
          },
          "metadata": {},
          "execution_count": 81
        },
        {
          "output_type": "display_data",
          "data": {
            "text/plain": [
              "<Figure size 2880x2520 with 0 Axes>"
            ]
          },
          "metadata": {}
        },
        {
          "output_type": "display_data",
          "data": {
            "image/png": "[encoded data removed]",
            "text/plain": [
              "<Figure size 864x1080 with 1 Axes>"
            ]
          },
          "metadata": {}
        }
      ]
    },
    {
      "cell_type": "markdown",
      "metadata": {
        "id": "p3LBlFf2j67o"
      },
      "source": [
        "# **THANK YOU!!**\n",
        "\n",
        "---\n",
        "\n"
      ]
    }
  ]
}